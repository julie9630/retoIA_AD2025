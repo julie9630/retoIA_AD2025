{
  "cells": [
    {
      "cell_type": "markdown",
      "id": "73a81c2f",
      "metadata": {
        "id": "73a81c2f"
      },
      "source": [
        "# TC 3006B Inteligencia artificial avanzada para la ciencia de datos I\n",
        "# CIFAR-10 Data Preparation (PyTorch)\n",
        "## Feedback\n",
        "\n",
        "## Deep Learning -- Data Cleaning\n",
        "\n",
        "### Objective: Load CIFAR-10, explore data, compute per-channel statistics (mean & std), normalize images, and verify normalization.\n",
        "\n",
        "### Instructions\n",
        "- Focus on data preparation, analysis, data is not usually as nice as CIFAR10 is. Model training follows as explained in classes.\n",
        "- Write comments and reflections in the indicated, verify you answer questions in Markdown cells.\n",
        "- Keep your code clean, reproducible, and well‑commented.\n"
      ]
    },
    {
      "cell_type": "markdown",
      "id": "2f37f400",
      "metadata": {
        "id": "2f37f400"
      },
      "source": [
        "\n",
        "## Environment & Reproducibility\n"
      ]
    },
    {
      "cell_type": "markdown",
      "id": "2b3c6570",
      "metadata": {},
      "source": [
        "Este código configura el entorno inicial para proyectos de aprendizaje profundo con PyTorch, importando bibliotecas esenciales para manejo de datos, redes neuronales y visualización, estableciendo una semilla (SEED=42) para garantizar reproducibilidad en los resultados, detectando automáticamente si hay GPU disponible para acelerar los cálculos, y preparando el terreno para trabajar con datasets de visión por computadora, siendo típicamente el punto de partida para entrenar modelos de clasificación de imágenes u otras tareas de computer vision."
      ]
    },
    {
      "cell_type": "code",
      "execution_count": 65,
      "id": "ec560c6e",
      "metadata": {
        "colab": {
          "base_uri": "https://localhost:8080/"
        },
        "id": "ec560c6e",
        "outputId": "5f01fca9-6b7c-4413-9709-98b2b5f9b29a"
      },
      "outputs": [
        {
          "name": "stdout",
          "output_type": "stream",
          "text": [
            "cpu\n"
          ]
        }
      ],
      "source": [
        "# Install libraries as needed, if using Colab, maybe all good\n",
        "\n",
        "import os, json, random, math, time\n",
        "from pathlib import Path\n",
        "import numpy as np\n",
        "import torch\n",
        "from torch.utils.data import DataLoader\n",
        "import torchvision\n",
        "from torchvision import datasets, transforms\n",
        "import matplotlib.pyplot as plt\n",
        "\n",
        "##########################################\n",
        "SEED = 42 #for reproducibility\n",
        "random.seed(SEED)\n",
        "np.random.seed(SEED)\n",
        "torch.manual_seed(SEED)\n",
        "torch.cuda.manual_seed_all(SEED)\n",
        "###########################################\n",
        "\n",
        "device = torch.device(\"cuda\" if torch.cuda.is_available() else \"cpu\")\n",
        "print(device)\n"
      ]
    },
    {
      "cell_type": "markdown",
      "id": "35aef7ec",
      "metadata": {
        "id": "35aef7ec"
      },
      "source": [
        "\n",
        "## Download & Load CIFAR-10 (Train/Test Splits)\n"
      ]
    },
    {
      "cell_type": "markdown",
      "id": "962f4328-5eda-43f8-bc2e-8b64c764c5e0",
      "metadata": {
        "id": "962f4328-5eda-43f8-bc2e-8b64c764c5e0"
      },
      "source": [
        "#### If using Colab you may need the following"
      ]
    },
    {
      "cell_type": "code",
      "execution_count": 56,
      "id": "990752e5-2223-40cf-8b27-2bd8daa504d6",
      "metadata": {
        "colab": {
          "base_uri": "https://localhost:8080/"
        },
        "id": "990752e5-2223-40cf-8b27-2bd8daa504d6",
        "outputId": "daf3849a-aa70-4d0f-c4bb-df2ac2f50131"
      },
      "outputs": [
        {
          "name": "stdout",
          "output_type": "stream",
          "text": [
            "Drive already mounted at /content/drive; to attempt to forcibly remount, call drive.mount(\"/content/drive\", force_remount=True).\n"
          ]
        }
      ],
      "source": [
        "from google.colab import drive\n",
        "drive.mount('/content/drive')"
      ]
    },
    {
      "cell_type": "code",
      "execution_count": 57,
      "id": "75467c44-6614-4d76-b897-5279377755f4",
      "metadata": {
        "id": "75467c44-6614-4d76-b897-5279377755f4"
      },
      "outputs": [],
      "source": [
        "import os\n",
        "os.chdir('/content/drive/MyDrive/Inteligencia Artificial/Datasets')"
      ]
    },
    {
      "cell_type": "markdown",
      "id": "b9695a87",
      "metadata": {},
      "source": [
        "Esta parte del código se encarga de descargar y preparar el dataset CIFAR-10 para su procesamiento, estableciendo primero la ruta de almacenamiento y creando el directorio correspondiente si no existe, luego define una transformación básica que convierte las imágenes en tensores de PyTorch sin normalización ni aumentos de datos aún, y finalmente carga tanto el conjunto de entrenamiento como el de prueba, verificando las dimensiones de los datos para confirmar que se han cargado correctamente los 50,000 ejemplos de entrenamiento y 10,000 de prueba con su formato original de imágenes de 32x32 píxeles y 3 canales de color."
      ]
    },
    {
      "cell_type": "code",
      "execution_count": 58,
      "id": "57f40a48",
      "metadata": {
        "colab": {
          "base_uri": "https://localhost:8080/"
        },
        "id": "57f40a48",
        "outputId": "2b9bba99-a599-459e-e3f5-72a8e9facd3a"
      },
      "outputs": [
        {
          "data": {
            "text/plain": [
              "(50000, 10000, (50000, 32, 32, 3))"
            ]
          },
          "execution_count": 58,
          "metadata": {},
          "output_type": "execute_result"
        }
      ],
      "source": [
        "# Maybe obvious, adjust path according to your needs\n",
        "DATA_DIR = Path(\"/cifar-10\")\n",
        "DATA_DIR.mkdir(parents=True, exist_ok=True)\n",
        "\n",
        "# Base transform for statistics: convert to tensor only (no normalization/augmentations yet)\n",
        "base_transform = transforms.ToTensor()\n",
        "\n",
        "train_set = datasets.CIFAR10(root=DATA_DIR, train=True, download=True, transform=base_transform)\n",
        "test_set  = datasets.CIFAR10(root=DATA_DIR, train=False, download=True, transform=base_transform)\n",
        "\n",
        "len(train_set), len(test_set), train_set.data.shape\n"
      ]
    },
    {
      "cell_type": "markdown",
      "id": "3acc4311",
      "metadata": {
        "id": "3acc4311"
      },
      "source": [
        "\n",
        "### Explore de dataset\n"
      ]
    },
    {
      "cell_type": "code",
      "execution_count": 59,
      "id": "4850847d",
      "metadata": {
        "colab": {
          "base_uri": "https://localhost:8080/"
        },
        "id": "4850847d",
        "outputId": "81902a87-9f04-4f7f-8044-1125b701e63b"
      },
      "outputs": [
        {
          "data": {
            "text/plain": [
              "['airplane',\n",
              " 'automobile',\n",
              " 'bird',\n",
              " 'cat',\n",
              " 'deer',\n",
              " 'dog',\n",
              " 'frog',\n",
              " 'horse',\n",
              " 'ship',\n",
              " 'truck']"
            ]
          },
          "execution_count": 59,
          "metadata": {},
          "output_type": "execute_result"
        }
      ],
      "source": [
        "classes = train_set.classes\n",
        "classes"
      ]
    },
    {
      "cell_type": "code",
      "execution_count": 60,
      "id": "ea442996",
      "metadata": {
        "colab": {
          "base_uri": "https://localhost:8080/",
          "height": 267
        },
        "id": "ea442996",
        "outputId": "dcb256c4-2cc6-4b41-d876-db79f39b2fa8"
      },
      "outputs": [
        {
          "data": {
            "image/png": "[encoded data removed]",
            "text/plain": [
              "<Figure size 750x250 with 3 Axes>"
            ]
          },
          "metadata": {},
          "output_type": "display_data"
        }
      ],
      "source": [
        "def show_images(dataset, n=5):\n",
        "    fig, axes = plt.subplots(1, n, figsize=(n*2.5, 2.5))\n",
        "    for ax in axes:\n",
        "        idx = np.random.randint(0, len(dataset))\n",
        "        img, label = dataset[idx]\n",
        "        # img: tensor [C,H,W] in [0,1]\n",
        "        ax.imshow(np.transpose(img.numpy(), (1, 2, 0)))  # HWC\n",
        "        ax.set_title(classes[label])\n",
        "        ax.axis(\"off\")\n",
        "    plt.tight_layout()\n",
        "    plt.show()\n",
        "\n",
        "show_images(train_set, n=3)\n"
      ]
    },
    {
      "cell_type": "markdown",
      "id": "4494ccc6",
      "metadata": {
        "id": "4494ccc6"
      },
      "source": [
        "\n",
        "> **Reflection (Markdown):** Describe CIFAR‑10 (resolution, channels, number of classes/samples). Include one sentence on why normalization is helpful for training.\n"
      ]
    },
    {
      "cell_type": "markdown",
      "id": "c0705f01",
      "metadata": {},
      "source": [
        "El dataset CIFAR-10 consta de 60,000 imágenes a color de 32x32 píxeles de resolución con 3 canales (RGB), distribuidas en 10 clases balanceadas (6,000 imágenes por clase), donde 50,000 se destinan para entrenamiento y 10,000 para prueba. La normalización es útil para el entrenamiento porque estabiliza y acelera el proceso de convergencia del modelo al estandarizar el rango de los valores de píxeles, evitando que gradientes demasiado grandes o pequeños dificulten el aprendizaje."
      ]
    },
    {
      "cell_type": "markdown",
      "id": "cf1e4294",
      "metadata": {
        "id": "cf1e4294"
      },
      "source": [
        "\n",
        "## Compute Per‑Channel Mean & Standard Deviation\n",
        "\n"
      ]
    },
    {
      "cell_type": "markdown",
      "id": "38794ed4",
      "metadata": {},
      "source": [
        "Este código calcula la media y la desviación estándar de los canales RGB del dataset CIFAR-10 para su normalización. Primero configura un DataLoader para procesar los datos en lotes de 512 imágenes sin mezclar, optimizado para carga en GPU. La función `compute_mean_std` procesa cada lote aplanando las imágenes de 32x32 píxeles en vectores de 1024 elementos por canal, calcula la media y desviación estándar para cada canal (R, G, B) a través de todos los píxeles y lotes, y finalmente promedia estos valores sobre el total de 50,000 imágenes de entrenamiento. La normalización con estos valores específicos del dataset es crucial porque escala los valores de píxeles a una distribución con media cero y desviación estándar uno, lo que acelera la convergencia del modelo y mejora la estabilidad durante el entrenamiento."
      ]
    },
    {
      "cell_type": "code",
      "execution_count": 61,
      "id": "09960dd6",
      "metadata": {
        "colab": {
          "base_uri": "https://localhost:8080/"
        },
        "id": "09960dd6",
        "outputId": "3c3b94c4-5279-413f-8a0a-e4746a7e1d02"
      },
      "outputs": [
        {
          "data": {
            "text/plain": [
              "(tensor([0.4914, 0.4822, 0.4465]), tensor([0.2023, 0.1994, 0.2010]))"
            ]
          },
          "execution_count": 61,
          "metadata": {},
          "output_type": "execute_result"
        }
      ],
      "source": [
        "BATCH_SIZE = 512 #Este batch size es el que nos indica, cuántas imágenes vamos a procesar a la vez\n",
        "train_loader = DataLoader(train_set, batch_size=BATCH_SIZE, shuffle=False, num_workers=2, pin_memory=True)\n",
        "\n",
        "def compute_mean_std(loader):\n",
        "    #Primero inicializamos uno tensores (arreglos multidimensionales) para el mean y std\n",
        "    #Estos tensores tendran una dimensión de 3 una para cada canal de color (RGB)\n",
        "    mean = torch.zeros(3)\n",
        "    std = torch.zeros(3)\n",
        "    #Los samples es la unidad de datos que procesamos, en este caso es una imagen\n",
        "    #En CIFAR-10 un sample es 1 imágen y 1 etiqueta (avión,etiqueta0)\n",
        "    total_samples = 0\n",
        "\n",
        "    # data [batch_size, 3, 32, 32]\n",
        "\n",
        "    for data, _ in loader:\n",
        "        batch_samples = data.size(0)  # número de imágenes en el batch\n",
        "\n",
        "        # Reshape a [batch_size, 3, 32*32] = [batch_size, 3, 1024]\n",
        "        #Lo que hace el.view es \"aplanar\" la imagen por ejemplo tenemos una matriz para cada color.\n",
        "        #y con eso ahora tenemos como un vector grande de n elementos\n",
        "        #el batch_samples es solo para decirle que vamos a seguir utilizando 512 imágenes\n",
        "        # el data.size(1) es 3 porque tenemos 3 canales de color\n",
        "        #data.size(0) = 512  batch size\n",
        "        #data.size(1) = 3    canales RGB\n",
        "        #data.size(2) = 32   altura\n",
        "        #data.size(3) = 32   ancho\n",
        "        # y el -1 significa que queremos que PyTorch calcule automáticamente el tamaño de esta dimensión y multiplica 32*32\n",
        "        # es como si tuvieramos (512, 3, 32,32)\n",
        "        data = data.view(batch_samples, data.size(1), -1)\n",
        "\n",
        "        # Calcular mean y std por canal\n",
        "        mean += data.mean(2).sum(0)  # mean sobre píxeles, sum sobre batch\n",
        "        std += data.std(2).sum(0)    # std sobre píxeles, sum sobre batch\n",
        "\n",
        "        total_samples += batch_samples\n",
        "\n",
        "    mean /= total_samples  # Promedio sobre todos los samples\n",
        "    std /= total_samples   # Promedio sobre todos los samples\n",
        "\n",
        "    return mean, std\n",
        "\n",
        "# Usar la función\n",
        "mean, std = compute_mean_std(train_loader)\n",
        "mean,std"
      ]
    },
    {
      "cell_type": "markdown",
      "id": "aea6a3d1",
      "metadata": {
        "id": "aea6a3d1"
      },
      "source": [
        "\n",
        "> Record your computed values here (e.g., `Mean ≈ [0.4914, 0.4822, 0.4465]`, `Std ≈ [0.2470, 0.2435, 0.2616]`). Your numbers should closely match these canonical references.\n"
      ]
    },
    {
      "cell_type": "markdown",
      "id": "b638be5c",
      "metadata": {
        "id": "b638be5c"
      },
      "source": [
        "\n",
        "## Normalize Datasets Using Computed Stats\n"
      ]
    },
    {
      "cell_type": "markdown",
      "id": "238f82bb",
      "metadata": {},
      "source": [
        "Este código aplica transformaciones de normalización a los conjuntos de entrenamiento y prueba de CIFAR-10 utilizando los valores de media y desviación estándar previamente calculados. Crea pipelines de transformación que primero convierten las imágenes en tensores de PyTorch y luego normalizan cada canal RGB (Red, Green, Blue) restando la media y dividiendo por la desviación estándar correspondiente, lo que resulta en datos con distribución aproximadamente normal (media ≈ 0, desviación ≈ 1). Finalmente, vuelve a cargar los datasets aplicando estas transformaciones, manteniendo el mismo número de muestras (50,000 para entrenamiento y 10,000 para prueba) pero ahora con los valores de píxeles normalizados, lo que optimiza el proceso de entrenamiento de modelos de deep learning al estabilizar la convergencia y mejorar el rendimiento."
      ]
    },
    {
      "cell_type": "code",
      "execution_count": 62,
      "id": "0408fc3d",
      "metadata": {
        "colab": {
          "base_uri": "https://localhost:8080/"
        },
        "id": "0408fc3d",
        "outputId": "16a2d682-4bfa-4c09-9ccf-3363bc8154cf"
      },
      "outputs": [
        {
          "data": {
            "text/plain": [
              "(50000, 10000)"
            ]
          },
          "execution_count": 62,
          "metadata": {},
          "output_type": "execute_result"
        }
      ],
      "source": [
        "# Normalizamos las imágenes usando la media y desv. est. por canal (R, G, B)\n",
        "normalize = transforms.Normalize(mean=mean.tolist(), std=std.tolist())\n",
        "\n",
        "# Convertimos la imagen a tensor y luego la normalizamos\n",
        "train_transform = transforms.Compose([\n",
        "    transforms.ToTensor(), #Imagen a tensor\n",
        "    normalize, #Emplea la media y desv. est. que calculamos anteriormente\n",
        "])\n",
        "\n",
        "#Mismas transformaciones que al conjunto de train\n",
        "test_transform = transforms.Compose([\n",
        "    transforms.ToTensor(),\n",
        "    normalize,\n",
        "])\n",
        "\n",
        "#Ya con el dataset normalizado, vamos a la ruta del CIFAR10, lo seleccionamos y aplicamos las transformaciones\n",
        "train_set_norm = datasets.CIFAR10(root=DATA_DIR, train=True, download=False, transform=train_transform)\n",
        "test_set_norm  = datasets.CIFAR10(root=DATA_DIR, train=False, download=False, transform=test_transform)\n",
        "\n",
        "#Obtener num. de imagenes por conjunto\n",
        "len(train_set_norm), len(test_set_norm)\n"
      ]
    },
    {
      "cell_type": "markdown",
      "id": "05fa5466",
      "metadata": {
        "id": "05fa5466"
      },
      "source": [
        "\n",
        "## Verify Normalization (Means ≈ 0, Stds ≈ 1)\n",
        "\n",
        "Confirm the transformation worked as intended.\n"
      ]
    },
    {
      "cell_type": "markdown",
      "id": "bf4fff8c",
      "metadata": {},
      "source": [
        "Este código crea un DataLoader para el conjunto de entrenamiento normalizado de CIFAR-10 y verifica que la normalización se haya aplicado correctamente. El DataLoader configura lotes de 512 imágenes sin mezclar, optimizando la carga de datos con dos subprocesos y transferencia eficiente a la GPU mediante pin_memory. Luego, se recalcula la media y desviación estándar del dataset normalizado, donde los valores resultantes (mean ≈ [0, 0, 0], std ≈ [1, 1, 1]) confirman que la normalización fue exitosa, ya que cada canal RGB ahora tiene una distribución con media cercana a cero y desviación estándar cercana a uno, lo que indica que los datos están adecuadamente escalados para un entrenamiento óptimo del modelo."
      ]
    },
    {
      "cell_type": "code",
      "execution_count": 63,
      "id": "0fa7d0c4",
      "metadata": {
        "colab": {
          "base_uri": "https://localhost:8080/"
        },
        "id": "0fa7d0c4",
        "outputId": "33a35c18-3549-4bb1-84a3-29e264cf2e6d"
      },
      "outputs": [
        {
          "name": "stdout",
          "output_type": "stream",
          "text": [
            "Mean después de normalización: tensor([ 3.7207e-07, -3.1963e-07, -2.1301e-07])\n",
            "Std después de normalización: tensor([1.0000, 1.0000, 1.0000])\n"
          ]
        },
        {
          "data": {
            "text/plain": [
              "(tensor([ 3.7207e-07, -3.1963e-07, -2.1301e-07]),\n",
              " tensor([1.0000, 1.0000, 1.0000]))"
            ]
          },
          "execution_count": 63,
          "metadata": {},
          "output_type": "execute_result"
        }
      ],
      "source": [
        "#Creamos dataloader para el train normalizado\n",
        "train_loader_norm = DataLoader(\n",
        "    train_set_norm,\n",
        "    batch_size=BATCH_SIZE,\n",
        "    shuffle=False, #Usamos el dataset completo, no es necesario el shuffle\n",
        "    num_workers=2, #Cantidad de subprocesos\n",
        "    pin_memory=True #En caso de correr en un equipo con GPU\n",
        "    )\n",
        "\n",
        "#Media y desv. est del conjunto normalizado, que ya debe tener media cerca de 0 y std de 1\n",
        "mean_norm, std_norm = compute_mean_std(train_loader_norm)\n",
        "print(f\"Mean después de normalización: {mean_norm}\")\n",
        "print(f\"Std después de normalización: {std_norm}\")\n",
        "\n",
        "mean_norm, std_norm\n"
      ]
    },
    {
      "cell_type": "markdown",
      "id": "dcdfc6c9",
      "metadata": {
        "id": "dcdfc6c9"
      },
      "source": [
        "\n",
        "> Report the post‑normalization means and stds. They should be close to `[0,0,0]` and `[1,1,1]` (small deviations are normal due to rounding/batching).\n"
      ]
    },
    {
      "cell_type": "markdown",
      "id": "aeaa1b48",
      "metadata": {
        "id": "aeaa1b48"
      },
      "source": [
        "\n",
        "## Light Data Augmentation\n",
        "Add a few basic augmentations (random crop with padding, random horizontal flip). Use **train** only.\n"
      ]
    },
    {
      "cell_type": "code",
      "execution_count": 64,
      "id": "6fcfe8a2",
      "metadata": {
        "colab": {
          "base_uri": "https://localhost:8080/"
        },
        "id": "6fcfe8a2",
        "outputId": "6b78f318-f73a-4bdd-fe3c-0897afaa2341"
      },
      "outputs": [
        {
          "data": {
            "text/plain": [
              "50000"
            ]
          },
          "execution_count": 64,
          "metadata": {},
          "output_type": "execute_result"
        }
      ],
      "source": [
        "aug_transform = transforms.Compose([\n",
        "    transforms.RandomHorizontalFlip(p=0.5), #Giro horizontal, 50% chance de que ocurra\n",
        "    transforms.RandomCrop(size=(32, 32), padding=4, padding_mode=\"reflect\"), #Hace un recorte aleatorio sobre una imagen, 4 pixeles de margen\n",
        "    transforms.ColorJitter(brightness=0.2, contrast=0.3, hue=0.1, saturation = 0.2), #Altera el brillo, contraste, saturación y tono de la imagen, similar a un filtro de edición\n",
        "    transforms.ToTensor(),\n",
        "    normalize,\n",
        "])\n",
        "\n",
        "#Cargar datos de train con transformaciones aplicadas\n",
        "train_set_aug = datasets.CIFAR10(root=DATA_DIR, train=True, download=False, transform=aug_transform)\n",
        "len(train_set_aug)\n"
      ]
    },
    {
      "cell_type": "markdown",
      "id": "075f932c",
      "metadata": {
        "id": "075f932c"
      },
      "source": [
        "\n",
        "> Explain when/why augmentation helps. What risks do heavy augmentations pose for small images like CIFAR‑10 (32×32)?\n"
      ]
    },
    {
      "cell_type": "markdown",
      "id": "d52215af",
      "metadata": {},
      "source": [
        "El **aumento de datos (data augmentation)** es útil durante el **entrenamiento de modelos de deep learning** para mejorar la generalización y reducir el sobreajuste (*overfitting*). Se aplica al crear transformaciones aleatorias (como rotaciones, volteos, cambios de color o recortes) en las imágenes de entrenamiento, lo que efectivamente expande el tamaño del dataset sintéticamente y enseña al modelo a ser invariante a variaciones irrelevantes en los datos. Esto es importante hacerlo en conjuntos pequeños como CIFAR-10, donde la reducida cantidad de ejemplos puede llevar a memorización en lugar de aprendizaje.\n",
        "\n",
        "**Riesgos de aumentos intensos en imágenes pequeñas (32×32):**  \n",
        "1. **Pérdida de información esencial**: Transformaciones agresivas (como recortes grandes o rotaciones excesivas) pueden eliminar características clave o distorsionar objetos beyond reconocimiento, especialmente en resoluciones bajas donde los detalles ya son limitados.  \n",
        "2. **Introducción de artefactos**: Operaciones como zoom o rotación pueden generar píxeles artificiales en bordes (efectos de aliasing o borrosidad), añadiendo ruido que confunde al modelo.  \n",
        "3. **Distorsión de contexto**: En imágenes tan pequeñas, el contexto espacial es crucial; un recorte de unos pocos píxeles puede eliminar partes críticas de un objeto.  \n",
        "4. **Saturación de deformaciones**: El modelo puede aprender patrones irreales si las transformaciones son demasiado extremas, dañando su capacidad para generalizar a datos reales.  \n",
        "\n",
        "En conclusión, en CIFAR-10 el aumento debe ser moderado y estratégico (pequeños recortes, volteos horizontales leves, ajustes sutiles de color) para evitar destruir la información ya escasa en imágenes de 32×32."
      ]
    },
    {
      "cell_type": "markdown",
      "id": "a667e6ee",
      "metadata": {
        "id": "a667e6ee"
      },
      "source": [
        "\n",
        "## Class Distribution\n",
        "Confirm class balance. CIFAR‑10 should be balanced across the 10 classes. Create a plot as a visual aid\n"
      ]
    },
    {
      "cell_type": "code",
      "execution_count": 66,
      "id": "51a66123",
      "metadata": {
        "colab": {
          "base_uri": "https://localhost:8080/",
          "height": 1000
        },
        "id": "51a66123",
        "outputId": "b73ad1f5-9905-4f8b-ac44-870271713824"
      },
      "outputs": [
        {
          "name": "stdout",
          "output_type": "stream",
          "text": [
            "\n",
            "Distribución de clases en: Original\n",
            "  airplane: 5000\n",
            "automobile: 5000\n",
            "      bird: 5000\n",
            "       cat: 5000\n",
            "      deer: 5000\n",
            "       dog: 5000\n",
            "      frog: 5000\n",
            "     horse: 5000\n",
            "      ship: 5000\n",
            "     truck: 5000\n"
          ]
        },
        {
          "data": {
            "image/png": "[encoded data removed]",
            "text/plain": [
              "<Figure size 800x400 with 1 Axes>"
            ]
          },
          "metadata": {},
          "output_type": "display_data"
        },
        {
          "name": "stdout",
          "output_type": "stream",
          "text": [
            "\n",
            "Distribución de clases en: Normalizado\n",
            "  airplane: 5000\n",
            "automobile: 5000\n",
            "      bird: 5000\n",
            "       cat: 5000\n",
            "      deer: 5000\n",
            "       dog: 5000\n",
            "      frog: 5000\n",
            "     horse: 5000\n",
            "      ship: 5000\n",
            "     truck: 5000\n"
          ]
        },
        {
          "data": {
            "image/png": "[encoded data removed]",
            "text/plain": [
              "<Figure size 800x400 with 1 Axes>"
            ]
          },
          "metadata": {},
          "output_type": "display_data"
        },
        {
          "name": "stdout",
          "output_type": "stream",
          "text": [
            "\n",
            "Distribución de clases en: Con Augmentations\n",
            "  airplane: 5000\n",
            "automobile: 5000\n",
            "      bird: 5000\n",
            "       cat: 5000\n",
            "      deer: 5000\n",
            "       dog: 5000\n",
            "      frog: 5000\n",
            "     horse: 5000\n",
            "      ship: 5000\n",
            "     truck: 5000\n"
          ]
        },
        {
          "data": {
            "image/png": "[encoded data removed]",
            "text/plain": [
              "<Figure size 800x400 with 1 Axes>"
            ]
          },
          "metadata": {},
          "output_type": "display_data"
        }
      ],
      "source": [
        "'''\n",
        "Cifar10 is perfectly distributed among classes, this will not always be the case, plots help, numbers help\n",
        "'''\n",
        "train_loader_aug = DataLoader(\n",
        "    train_set_aug,\n",
        "    batch_size=BATCH_SIZE,\n",
        "    shuffle=False,\n",
        "    num_workers=2,\n",
        "    pin_memory=True\n",
        ")\n",
        "\n",
        "#Lista para comparar\n",
        "loaders = {\n",
        "    \"Original\": train_loader,\n",
        "    \"Normalizado\": train_loader_norm,\n",
        "    \"Con Augmentations\": train_loader_aug,\n",
        "}\n",
        "\n",
        "# show class distribution\n",
        "for name, loader in loaders.items():\n",
        "    print(f\"\\nDistribución de clases en: {name}\")\n",
        "    class_counts = {class_name: 0 for class_name in classes}\n",
        "\n",
        "    for _, labels in loader:\n",
        "        for label in labels:\n",
        "            class_name = classes[label.item()]\n",
        "            class_counts[class_name] += 1\n",
        "\n",
        "    # Mostrar conteo por clase\n",
        "    for class_name, count in class_counts.items():\n",
        "        print(f\"{class_name:>10}: {count}\")\n",
        "\n",
        "# show plot\n",
        "    plt.figure(figsize=(8,4))\n",
        "    plt.bar(class_counts.keys(), class_counts.values())\n",
        "    plt.xlabel('Clase')\n",
        "    plt.ylabel('Cantidad')\n",
        "    plt.title(f'Distribución de clases en {name}')\n",
        "    plt.tight_layout()\n",
        "    plt.show()"
      ]
    },
    {
      "cell_type": "markdown",
      "id": "4dcc34e8",
      "metadata": {
        "id": "4dcc34e8"
      },
      "source": [
        "\n",
        "## 9. Submission Checklist\n",
        "- [/] Printed dataset sizes and showed random sample images.\n",
        "- [/] Reported per‑channel mean & std from the training set.\n",
        "- [/] Applied normalization using computed stats.\n",
        "- [/] Verified post‑normalization mean/std are ~0/1.\n",
        "- [ ] Basic augmentations and rationale.\n"
      ]
    }
  ],
  "metadata": {
    "colab": {
      "provenance": []
    },
    "kernelspec": {
      "display_name": "Python 3 (ipykernel)",
      "language": "python",
      "name": "python3"
    },
    "language_info": {
      "codemirror_mode": {
        "name": "ipython",
        "version": 3
      },
      "file_extension": ".py",
      "mimetype": "text/x-python",
      "name": "python",
      "nbconvert_exporter": "python",
      "pygments_lexer": "ipython3",
      "version": "3.12.7"
    }
  },
  "nbformat": 4,
  "nbformat_minor": 5
}
